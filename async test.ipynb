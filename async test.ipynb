{
 "cells": [
  {
   "cell_type": "code",
   "execution_count": null,
   "metadata": {},
   "outputs": [],
   "source": [
    "from_lang = 'pt'\n",
    "def sentiment_score(sentence):\n",
    "    try:\n",
    "        # api call\n",
    "        to_lang = 'en'\n",
    "        api_url = \"http://mymemory.translated.net/api/get?q={}&langpair={}|{}\".format(sentence, from_lang,\n",
    "                                                                                                  to_lang)\n",
    "        hdrs = {\n",
    "            'User-Agent': 'Mozilla/5.0 (X11; Linux x86_64) AppleWebKit/537.11 (KHTML, like Gecko) Chrome/23.0.1271.64 Safari/537.11',\n",
    "            'Accept': 'text/html,application/xhtml+xml,application/xml;q=0.9,*/*;q=0.8',\n",
    "            'Accept-Charset': 'ISO-8859-1,utf-8;q=0.7,*;q=0.3',\n",
    "            'Accept-Encoding': 'none',\n",
    "            'Accept-Language': 'en-US,en;q=0.8',\n",
    "            'Connection': 'keep-alive'}\n",
    "        response = requests.get(api_url, headers=hdrs)\n",
    "        response_json = json.loads(response.text)\n",
    "\n",
    "        # translation\n",
    "        translation = response_json[\"responseData\"][\"translatedText\"]\n",
    "\n",
    "        # sentiment\n",
    "        analyzer = SentimentIntensityAnalyzer()\n",
    "        compound_score = analyzer.polarity_scores(translation)['compound']\n",
    "        return [sentence, translation, compound_score]\n",
    "    except Exception as e:\n",
    "        print(str(e))\n",
    "        return None\n",
    "    \n",
    "loop = asyncio.get_event_loop()"
   ]
  },
  {
   "cell_type": "code",
   "execution_count": null,
   "metadata": {},
   "outputs": [],
   "source": [
    "async def get_sentiments():\n",
    "    messages = list(table.message)\n",
    "    with concurrent.futures.ThreadPoolExecutor(max_workers=20) as executor:\n",
    "        loop = asyncio.get_event_loop()\n",
    "        futures = [loop.run_in_executor(\n",
    "            executor,\n",
    "            partial(\n",
    "                sentiment_score,\n",
    "                sentence=message\n",
    "            ),\n",
    "        ) for message in messages[0:100] ]\n",
    "        \n",
    "        for result in await asyncio.gather(*futures):\n",
    "            print(result)\n",
    "\n",
    "asyncio.run_coroutine_threadsafe(get_sentiments(), loop)"
   ]
  },
  {
   "cell_type": "code",
   "execution_count": null,
   "metadata": {},
   "outputs": [],
   "source": []
  }
 ],
 "metadata": {
  "kernelspec": {
   "display_name": "Python [conda env:python3_7]",
   "language": "python",
   "name": "conda-env-python3_7-py"
  },
  "language_info": {
   "codemirror_mode": {
    "name": "ipython",
    "version": 3
   },
   "file_extension": ".py",
   "mimetype": "text/x-python",
   "name": "python",
   "nbconvert_exporter": "python",
   "pygments_lexer": "ipython3",
   "version": "3.7.1"
  }
 },
 "nbformat": 4,
 "nbformat_minor": 2
}
